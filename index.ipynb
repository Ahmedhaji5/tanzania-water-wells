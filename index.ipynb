{
 "cells": [
  {
   "cell_type": "markdown",
   "metadata": {},
   "source": [
    "Business understanding\n",
    "problem statement\n",
    "data understanding"
   ]
  },
  {
   "cell_type": "markdown",
   "metadata": {},
   "source": [
    "To perform data exploration, preprocessing, and predictive modeling, you will need to import several libraries in Python. Here are the necessary libraries:"
   ]
  },
  {
   "cell_type": "code",
   "execution_count": 17,
   "metadata": {},
   "outputs": [],
   "source": [
    "import pandas as pd\n",
    "import numpy as np\n",
    "import matplotlib.pyplot as plt\n",
    "import seaborn as sns\n",
    "from sklearn.model_selection import train_test_split\n",
    "from sklearn.preprocessing import LabelEncoder, OneHotEncoder\n",
    "from sklearn.impute import SimpleImputer\n"
   ]
  },
  {
   "cell_type": "markdown",
   "metadata": {},
   "source": [
    "### Loading the dataset"
   ]
  },
  {
   "cell_type": "code",
   "execution_count": 18,
   "metadata": {},
   "outputs": [],
   "source": [
    "# Importing the csv files\n",
    "training_set_values = pd.read_csv(\"training_set_values.csv\")\n",
    "test_set_values = pd.read_csv(\"test_set_values.csv\")\n",
    "training_set_labels = pd.read_csv(\"training_set_labels.csv\")\n",
    "\n"
   ]
  },
  {
   "cell_type": "markdown",
   "metadata": {},
   "source": [
    "### Data Exploration."
   ]
  },
  {
   "cell_type": "code",
   "execution_count": 19,
   "metadata": {},
   "outputs": [
    {
     "name": "stdout",
     "output_type": "stream",
     "text": [
      "<class 'pandas.core.frame.DataFrame'>\n",
      "RangeIndex: 59400 entries, 0 to 59399\n",
      "Data columns (total 40 columns):\n",
      " #   Column                 Non-Null Count  Dtype  \n",
      "---  ------                 --------------  -----  \n",
      " 0   id                     59400 non-null  int64  \n",
      " 1   amount_tsh             59400 non-null  float64\n",
      " 2   date_recorded          59400 non-null  object \n",
      " 3   funder                 55765 non-null  object \n",
      " 4   gps_height             59400 non-null  int64  \n",
      " 5   installer              55745 non-null  object \n",
      " 6   longitude              59400 non-null  float64\n",
      " 7   latitude               59400 non-null  float64\n",
      " 8   wpt_name               59400 non-null  object \n",
      " 9   num_private            59400 non-null  int64  \n",
      " 10  basin                  59400 non-null  object \n",
      " 11  subvillage             59029 non-null  object \n",
      " 12  region                 59400 non-null  object \n",
      " 13  region_code            59400 non-null  int64  \n",
      " 14  district_code          59400 non-null  int64  \n",
      " 15  lga                    59400 non-null  object \n",
      " 16  ward                   59400 non-null  object \n",
      " 17  population             59400 non-null  int64  \n",
      " 18  public_meeting         56066 non-null  object \n",
      " 19  recorded_by            59400 non-null  object \n",
      " 20  scheme_management      55523 non-null  object \n",
      " 21  scheme_name            31234 non-null  object \n",
      " 22  permit                 56344 non-null  object \n",
      " 23  construction_year      59400 non-null  int64  \n",
      " 24  extraction_type        59400 non-null  object \n",
      " 25  extraction_type_group  59400 non-null  object \n",
      " 26  extraction_type_class  59400 non-null  object \n",
      " 27  management             59400 non-null  object \n",
      " 28  management_group       59400 non-null  object \n",
      " 29  payment                59400 non-null  object \n",
      " 30  payment_type           59400 non-null  object \n",
      " 31  water_quality          59400 non-null  object \n",
      " 32  quality_group          59400 non-null  object \n",
      " 33  quantity               59400 non-null  object \n",
      " 34  quantity_group         59400 non-null  object \n",
      " 35  source                 59400 non-null  object \n",
      " 36  source_type            59400 non-null  object \n",
      " 37  source_class           59400 non-null  object \n",
      " 38  waterpoint_type        59400 non-null  object \n",
      " 39  waterpoint_type_group  59400 non-null  object \n",
      "dtypes: float64(3), int64(7), object(30)\n",
      "memory usage: 18.1+ MB\n",
      "None\n"
     ]
    }
   ],
   "source": [
    "# Explore the structure of training_set_values\n",
    "print(training_set_values.info())\n"
   ]
  },
  {
   "cell_type": "code",
   "execution_count": 22,
   "metadata": {},
   "outputs": [
    {
     "name": "stdout",
     "output_type": "stream",
     "text": [
      "      id  amount_tsh date_recorded        funder  gps_height     installer  \\\n",
      "0  69572      6000.0    14/03/2011         Roman        1390         Roman   \n",
      "1   8776         0.0    06/03/2013       Grumeti        1399       GRUMETI   \n",
      "2  34310        25.0    25/02/2013  Lottery Club         686  World vision   \n",
      "3  67743         0.0    28/01/2013        Unicef         263        UNICEF   \n",
      "4  19728         0.0    13/07/2011   Action In A           0       Artisan   \n",
      "\n",
      "   longitude   latitude              wpt_name  num_private  ... payment_type  \\\n",
      "0  34.938093  -9.856322                  none            0  ...     annually   \n",
      "1  34.698766  -2.147466              Zahanati            0  ...    never pay   \n",
      "2  37.460664  -3.821329           Kwa Mahundi            0  ...   per bucket   \n",
      "3  38.486161 -11.155298  Zahanati Ya Nanyumbu            0  ...    never pay   \n",
      "4  31.130847  -1.825359               Shuleni            0  ...    never pay   \n",
      "\n",
      "  water_quality quality_group      quantity  quantity_group  \\\n",
      "0          soft          good        enough          enough   \n",
      "1          soft          good  insufficient    insufficient   \n",
      "2          soft          good        enough          enough   \n",
      "3          soft          good           dry             dry   \n",
      "4          soft          good      seasonal        seasonal   \n",
      "\n",
      "                 source           source_type  source_class  \\\n",
      "0                spring                spring   groundwater   \n",
      "1  rainwater harvesting  rainwater harvesting       surface   \n",
      "2                   dam                   dam       surface   \n",
      "3           machine dbh              borehole   groundwater   \n",
      "4  rainwater harvesting  rainwater harvesting       surface   \n",
      "\n",
      "               waterpoint_type waterpoint_type_group  \n",
      "0           communal standpipe    communal standpipe  \n",
      "1           communal standpipe    communal standpipe  \n",
      "2  communal standpipe multiple    communal standpipe  \n",
      "3  communal standpipe multiple    communal standpipe  \n",
      "4           communal standpipe    communal standpipe  \n",
      "\n",
      "[5 rows x 40 columns]\n"
     ]
    }
   ],
   "source": [
    "# Explore the first few rows of the dataset\n",
    "print(training_set_values.head())"
   ]
  },
  {
   "cell_type": "code",
   "execution_count": 23,
   "metadata": {},
   "outputs": [
    {
     "name": "stdout",
     "output_type": "stream",
     "text": [
      "                 id     amount_tsh    gps_height     longitude      latitude  \\\n",
      "count  59400.000000   59400.000000  59400.000000  59400.000000  5.940000e+04   \n",
      "mean   37115.131768     317.650385    668.297239     34.077427 -5.706033e+00   \n",
      "std    21453.128371    2997.574558    693.116350      6.567432  2.946019e+00   \n",
      "min        0.000000       0.000000    -90.000000      0.000000 -1.164944e+01   \n",
      "25%    18519.750000       0.000000      0.000000     33.090347 -8.540621e+00   \n",
      "50%    37061.500000       0.000000    369.000000     34.908743 -5.021597e+00   \n",
      "75%    55656.500000      20.000000   1319.250000     37.178387 -3.326156e+00   \n",
      "max    74247.000000  350000.000000   2770.000000     40.345193 -2.000000e-08   \n",
      "\n",
      "        num_private   region_code  district_code    population  \\\n",
      "count  59400.000000  59400.000000   59400.000000  59400.000000   \n",
      "mean       0.474141     15.297003       5.629747    179.909983   \n",
      "std       12.236230     17.587406       9.633649    471.482176   \n",
      "min        0.000000      1.000000       0.000000      0.000000   \n",
      "25%        0.000000      5.000000       2.000000      0.000000   \n",
      "50%        0.000000     12.000000       3.000000     25.000000   \n",
      "75%        0.000000     17.000000       5.000000    215.000000   \n",
      "max     1776.000000     99.000000      80.000000  30500.000000   \n",
      "\n",
      "       construction_year  \n",
      "count       59400.000000  \n",
      "mean         1300.652475  \n",
      "std           951.620547  \n",
      "min             0.000000  \n",
      "25%             0.000000  \n",
      "50%          1986.000000  \n",
      "75%          2004.000000  \n",
      "max          2013.000000  \n"
     ]
    }
   ],
   "source": [
    "# Summary statistics of numerical features\n",
    "print(training_set_values.describe())"
   ]
  },
  {
   "cell_type": "code",
   "execution_count": 24,
   "metadata": {},
   "outputs": [
    {
     "name": "stdout",
     "output_type": "stream",
     "text": [
      "       date_recorded                  funder installer wpt_name  \\\n",
      "count          59400                   55765     55745    59400   \n",
      "unique           356                    1897      2145    37400   \n",
      "top       15/03/2011  Government Of Tanzania       DWE     none   \n",
      "freq             572                    9084     17402     3563   \n",
      "\n",
      "                basin subvillage  region     lga   ward public_meeting  ...  \\\n",
      "count           59400      59029   59400   59400  59400          56066  ...   \n",
      "unique              9      19287      21     125   2092              2  ...   \n",
      "top     Lake Victoria   Madukani  Iringa  Njombe  Igosi           True  ...   \n",
      "freq            10248        508    5294    2503    307          51011  ...   \n",
      "\n",
      "       payment_type water_quality quality_group quantity quantity_group  \\\n",
      "count         59400         59400         59400    59400          59400   \n",
      "unique            7             8             6        5              5   \n",
      "top       never pay          soft          good   enough         enough   \n",
      "freq          25348         50818         50818    33186          33186   \n",
      "\n",
      "        source source_type source_class     waterpoint_type  \\\n",
      "count    59400       59400        59400               59400   \n",
      "unique      10           7            3                   7   \n",
      "top     spring      spring  groundwater  communal standpipe   \n",
      "freq     17021       17021        45794               28522   \n",
      "\n",
      "       waterpoint_type_group  \n",
      "count                  59400  \n",
      "unique                     6  \n",
      "top       communal standpipe  \n",
      "freq                   34625  \n",
      "\n",
      "[4 rows x 30 columns]\n"
     ]
    }
   ],
   "source": [
    "# Summary statistics of categorical features\n",
    "print(training_set_values.describe(include=['object']))\n"
   ]
  },
  {
   "cell_type": "code",
   "execution_count": 25,
   "metadata": {},
   "outputs": [
    {
     "data": {
      "image/png": "[encoded data removed]",
      "text/plain": [
       "<Figure size 432x288 with 1 Axes>"
      ]
     },
     "metadata": {
      "needs_background": "light"
     },
     "output_type": "display_data"
    }
   ],
   "source": [
    "# Visualize distributions of numerical features\n",
    "sns.histplot(data=training_set_values['population'], bins=30, kde=True)\n",
    "plt.show()\n"
   ]
  },
  {
   "cell_type": "code",
   "execution_count": 26,
   "metadata": {},
   "outputs": [
    {
     "data": {
      "image/png": "[encoded data removed]",
      "text/plain": [
       "<Figure size 432x288 with 1 Axes>"
      ]
     },
     "metadata": {
      "needs_background": "light"
     },
     "output_type": "display_data"
    }
   ],
   "source": [
    "# Visualize distributions of categorical features\n",
    "sns.countplot(data=training_set_values, x='basin')\n",
    "plt.xticks(rotation=45)\n",
    "plt.show()\n"
   ]
  }
 ],
 "metadata": {
  "kernelspec": {
   "display_name": "Python 3",
   "language": "python",
   "name": "python3"
  },
  "language_info": {
   "codemirror_mode": {
    "name": "ipython",
    "version": 3
   },
   "file_extension": ".py",
   "mimetype": "text/x-python",
   "name": "python",
   "nbconvert_exporter": "python",
   "pygments_lexer": "ipython3",
   "version": "3.8.5"
  }
 },
 "nbformat": 4,
 "nbformat_minor": 2
}
