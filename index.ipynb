{
 "cells": [
  {
   "cell_type": "markdown",
   "metadata": {},
   "source": [
    "Business understanding\n",
    "problem statement\n",
    "data understanding"
   ]
  },
  {
   "cell_type": "markdown",
   "metadata": {},
   "source": [
    "To perform data exploration, preprocessing, and predictive modeling, you will need to import several libraries in Python. Here are the necessary libraries:"
   ]
  },
  {
   "cell_type": "code",
   "execution_count": 1,
   "metadata": {},
   "outputs": [],
   "source": [
    "import pandas as pd\n",
    "import numpy as np\n",
    "import matplotlib.pyplot as plt\n",
    "import seaborn as sns\n",
    "from sklearn.model_selection import train_test_split\n",
    "from sklearn.preprocessing import LabelEncoder, OneHotEncoder\n",
    "from sklearn.impute import SimpleImputer\n"
   ]
  },
  {
   "cell_type": "markdown",
   "metadata": {},
   "source": [
    "### Loading the dataset"
   ]
  },
  {
   "cell_type": "code",
   "execution_count": 2,
   "metadata": {},
   "outputs": [],
   "source": [
    "# Importing the csv files\n",
    "training_set_values = pd.read_csv(\"training_set_values.csv\")\n",
    "test_set_values = pd.read_csv(\"test_set_values.csv\")\n",
    "training_set_labels = pd.read_csv(\"training_set_labels.csv\")\n",
    "\n"
   ]
  },
  {
   "cell_type": "markdown",
   "metadata": {},
   "source": [
    "### Data Exploration."
   ]
  },
  {
   "cell_type": "code",
   "execution_count": 3,
   "metadata": {},
   "outputs": [
    {
     "name": "stdout",
     "output_type": "stream",
     "text": [
      "<class 'pandas.core.frame.DataFrame'>\n",
      "RangeIndex: 59400 entries, 0 to 59399\n",
      "Data columns (total 40 columns):\n",
      " #   Column                 Non-Null Count  Dtype  \n",
      "---  ------                 --------------  -----  \n",
      " 0   id                     59400 non-null  int64  \n",
      " 1   amount_tsh             59400 non-null  float64\n",
      " 2   date_recorded          59400 non-null  object \n",
      " 3   funder                 55765 non-null  object \n",
      " 4   gps_height             59400 non-null  int64  \n",
      " 5   installer              55745 non-null  object \n",
      " 6   longitude              59400 non-null  float64\n",
      " 7   latitude               59400 non-null  float64\n",
      " 8   wpt_name               59400 non-null  object \n",
      " 9   num_private            59400 non-null  int64  \n",
      " 10  basin                  59400 non-null  object \n",
      " 11  subvillage             59029 non-null  object \n",
      " 12  region                 59400 non-null  object \n",
      " 13  region_code            59400 non-null  int64  \n",
      " 14  district_code          59400 non-null  int64  \n",
      " 15  lga                    59400 non-null  object \n",
      " 16  ward                   59400 non-null  object \n",
      " 17  population             59400 non-null  int64  \n",
      " 18  public_meeting         56066 non-null  object \n",
      " 19  recorded_by            59400 non-null  object \n",
      " 20  scheme_management      55523 non-null  object \n",
      " 21  scheme_name            31234 non-null  object \n",
      " 22  permit                 56344 non-null  object \n",
      " 23  construction_year      59400 non-null  int64  \n",
      " 24  extraction_type        59400 non-null  object \n",
      " 25  extraction_type_group  59400 non-null  object \n",
      " 26  extraction_type_class  59400 non-null  object \n",
      " 27  management             59400 non-null  object \n",
      " 28  management_group       59400 non-null  object \n",
      " 29  payment                59400 non-null  object \n",
      " 30  payment_type           59400 non-null  object \n",
      " 31  water_quality          59400 non-null  object \n",
      " 32  quality_group          59400 non-null  object \n",
      " 33  quantity               59400 non-null  object \n",
      " 34  quantity_group         59400 non-null  object \n",
      " 35  source                 59400 non-null  object \n",
      " 36  source_type            59400 non-null  object \n",
      " 37  source_class           59400 non-null  object \n",
      " 38  waterpoint_type        59400 non-null  object \n",
      " 39  waterpoint_type_group  59400 non-null  object \n",
      "dtypes: float64(3), int64(7), object(30)\n",
      "memory usage: 18.1+ MB\n",
      "None\n"
     ]
    }
   ],
   "source": [
    "# Explore the structure of training_set_values\n",
    "print(training_set_values.info())\n"
   ]
  },
  {
   "cell_type": "code",
   "execution_count": 4,
   "metadata": {},
   "outputs": [
    {
     "name": "stdout",
     "output_type": "stream",
     "text": [
      "      id  amount_tsh date_recorded        funder  gps_height     installer  \\\n",
      "0  69572      6000.0    14/03/2011         Roman        1390         Roman   \n",
      "1   8776         0.0    06/03/2013       Grumeti        1399       GRUMETI   \n",
      "2  34310        25.0    25/02/2013  Lottery Club         686  World vision   \n",
      "3  67743         0.0    28/01/2013        Unicef         263        UNICEF   \n",
      "4  19728         0.0    13/07/2011   Action In A           0       Artisan   \n",
      "\n",
      "   longitude   latitude              wpt_name  num_private  ... payment_type  \\\n",
      "0  34.938093  -9.856322                  none            0  ...     annually   \n",
      "1  34.698766  -2.147466              Zahanati            0  ...    never pay   \n",
      "2  37.460664  -3.821329           Kwa Mahundi            0  ...   per bucket   \n",
      "3  38.486161 -11.155298  Zahanati Ya Nanyumbu            0  ...    never pay   \n",
      "4  31.130847  -1.825359               Shuleni            0  ...    never pay   \n",
      "\n",
      "  water_quality quality_group      quantity  quantity_group  \\\n",
      "0          soft          good        enough          enough   \n",
      "1          soft          good  insufficient    insufficient   \n",
      "2          soft          good        enough          enough   \n",
      "3          soft          good           dry             dry   \n",
      "4          soft          good      seasonal        seasonal   \n",
      "\n",
      "                 source           source_type  source_class  \\\n",
      "0                spring                spring   groundwater   \n",
      "1  rainwater harvesting  rainwater harvesting       surface   \n",
      "2                   dam                   dam       surface   \n",
      "3           machine dbh              borehole   groundwater   \n",
      "4  rainwater harvesting  rainwater harvesting       surface   \n",
      "\n",
      "               waterpoint_type waterpoint_type_group  \n",
      "0           communal standpipe    communal standpipe  \n",
      "1           communal standpipe    communal standpipe  \n",
      "2  communal standpipe multiple    communal standpipe  \n",
      "3  communal standpipe multiple    communal standpipe  \n",
      "4           communal standpipe    communal standpipe  \n",
      "\n",
      "[5 rows x 40 columns]\n"
     ]
    }
   ],
   "source": [
    "# Explore the first few rows of the dataset\n",
    "print(training_set_values.head())"
   ]
  },
  {
   "cell_type": "code",
   "execution_count": 5,
   "metadata": {},
   "outputs": [
    {
     "name": "stdout",
     "output_type": "stream",
     "text": [
      "                 id     amount_tsh    gps_height     longitude      latitude  \\\n",
      "count  59400.000000   59400.000000  59400.000000  59400.000000  5.940000e+04   \n",
      "mean   37115.131768     317.650385    668.297239     34.077427 -5.706033e+00   \n",
      "std    21453.128371    2997.574558    693.116350      6.567432  2.946019e+00   \n",
      "min        0.000000       0.000000    -90.000000      0.000000 -1.164944e+01   \n",
      "25%    18519.750000       0.000000      0.000000     33.090347 -8.540621e+00   \n",
      "50%    37061.500000       0.000000    369.000000     34.908743 -5.021597e+00   \n",
      "75%    55656.500000      20.000000   1319.250000     37.178387 -3.326156e+00   \n",
      "max    74247.000000  350000.000000   2770.000000     40.345193 -2.000000e-08   \n",
      "\n",
      "        num_private   region_code  district_code    population  \\\n",
      "count  59400.000000  59400.000000   59400.000000  59400.000000   \n",
      "mean       0.474141     15.297003       5.629747    179.909983   \n",
      "std       12.236230     17.587406       9.633649    471.482176   \n",
      "min        0.000000      1.000000       0.000000      0.000000   \n",
      "25%        0.000000      5.000000       2.000000      0.000000   \n",
      "50%        0.000000     12.000000       3.000000     25.000000   \n",
      "75%        0.000000     17.000000       5.000000    215.000000   \n",
      "max     1776.000000     99.000000      80.000000  30500.000000   \n",
      "\n",
      "       construction_year  \n",
      "count       59400.000000  \n",
      "mean         1300.652475  \n",
      "std           951.620547  \n",
      "min             0.000000  \n",
      "25%             0.000000  \n",
      "50%          1986.000000  \n",
      "75%          2004.000000  \n",
      "max          2013.000000  \n"
     ]
    }
   ],
   "source": [
    "# Summary statistics of numerical features\n",
    "print(training_set_values.describe())"
   ]
  },
  {
   "cell_type": "code",
   "execution_count": 6,
   "metadata": {},
   "outputs": [
    {
     "name": "stdout",
     "output_type": "stream",
     "text": [
      "       date_recorded                  funder installer wpt_name  \\\n",
      "count          59400                   55765     55745    59400   \n",
      "unique           356                    1897      2145    37400   \n",
      "top       15/03/2011  Government Of Tanzania       DWE     none   \n",
      "freq             572                    9084     17402     3563   \n",
      "\n",
      "                basin subvillage  region     lga   ward public_meeting  ...  \\\n",
      "count           59400      59029   59400   59400  59400          56066  ...   \n",
      "unique              9      19287      21     125   2092              2  ...   \n",
      "top     Lake Victoria   Madukani  Iringa  Njombe  Igosi           True  ...   \n",
      "freq            10248        508    5294    2503    307          51011  ...   \n",
      "\n",
      "       payment_type water_quality quality_group quantity quantity_group  \\\n",
      "count         59400         59400         59400    59400          59400   \n",
      "unique            7             8             6        5              5   \n",
      "top       never pay          soft          good   enough         enough   \n",
      "freq          25348         50818         50818    33186          33186   \n",
      "\n",
      "        source source_type source_class     waterpoint_type  \\\n",
      "count    59400       59400        59400               59400   \n",
      "unique      10           7            3                   7   \n",
      "top     spring      spring  groundwater  communal standpipe   \n",
      "freq     17021       17021        45794               28522   \n",
      "\n",
      "       waterpoint_type_group  \n",
      "count                  59400  \n",
      "unique                     6  \n",
      "top       communal standpipe  \n",
      "freq                   34625  \n",
      "\n",
      "[4 rows x 30 columns]\n"
     ]
    }
   ],
   "source": [
    "# Summary statistics of categorical features\n",
    "print(training_set_values.describe(include=['object']))\n"
   ]
  },
  {
   "cell_type": "code",
   "execution_count": 7,
   "metadata": {},
   "outputs": [
    {
     "data": {
      "image/png": "[encoded data removed]",
      "text/plain": [
       "<Figure size 432x288 with 1 Axes>"
      ]
     },
     "metadata": {
      "needs_background": "light"
     },
     "output_type": "display_data"
    }
   ],
   "source": [
    "# Visualize distributions of numerical features\n",
    "sns.histplot(data=training_set_values['population'], bins=30, kde=True)\n",
    "plt.show()\n"
   ]
  },
  {
   "cell_type": "code",
   "execution_count": 8,
   "metadata": {},
   "outputs": [
    {
     "data": {
      "image/png": "[encoded data removed]",
      "text/plain": [
       "<Figure size 432x288 with 1 Axes>"
      ]
     },
     "metadata": {
      "needs_background": "light"
     },
     "output_type": "display_data"
    }
   ],
   "source": [
    "# Visualize distributions of categorical features\n",
    "sns.countplot(data=training_set_values, x='basin')\n",
    "plt.xticks(rotation=45)\n",
    "plt.show()\n"
   ]
  },
  {
   "cell_type": "markdown",
   "metadata": {},
   "source": [
    "### Handling Missing Values."
   ]
  },
  {
   "cell_type": "code",
   "execution_count": 9,
   "metadata": {},
   "outputs": [
    {
     "name": "stdout",
     "output_type": "stream",
     "text": [
      "id                           0\n",
      "amount_tsh                   0\n",
      "date_recorded                0\n",
      "funder                    3635\n",
      "gps_height                   0\n",
      "installer                 3655\n",
      "longitude                    0\n",
      "latitude                     0\n",
      "wpt_name                     0\n",
      "num_private                  0\n",
      "basin                        0\n",
      "subvillage                 371\n",
      "region                       0\n",
      "region_code                  0\n",
      "district_code                0\n",
      "lga                          0\n",
      "ward                         0\n",
      "population                   0\n",
      "public_meeting            3334\n",
      "recorded_by                  0\n",
      "scheme_management         3877\n",
      "scheme_name              28166\n",
      "permit                    3056\n",
      "construction_year            0\n",
      "extraction_type              0\n",
      "extraction_type_group        0\n",
      "extraction_type_class        0\n",
      "management                   0\n",
      "management_group             0\n",
      "payment                      0\n",
      "payment_type                 0\n",
      "water_quality                0\n",
      "quality_group                0\n",
      "quantity                     0\n",
      "quantity_group               0\n",
      "source                       0\n",
      "source_type                  0\n",
      "source_class                 0\n",
      "waterpoint_type              0\n",
      "waterpoint_type_group        0\n",
      "dtype: int64\n"
     ]
    }
   ],
   "source": [
    "# Check for missing values\n",
    "print(training_set_values.isnull().sum())\n"
   ]
  },
  {
   "cell_type": "markdown",
   "metadata": {},
   "source": [
    "#### Handling Missing values for different categories."
   ]
  },
  {
   "cell_type": "code",
   "execution_count": 10,
   "metadata": {},
   "outputs": [],
   "source": [
    "# Impute missing values for categorical columns with the mode\n",
    "categorical_columns = ['funder', 'installer', 'scheme_management', 'permit']\n",
    "for column in categorical_columns:\n",
    "    training_set_values[column].fillna(training_set_values[column].mode()[0], inplace=True)\n",
    "\n",
    "# Impute missing values for numerical columns with the median\n",
    "training_set_values['construction_year'].fillna(training_set_values['construction_year'].median(), inplace=True)\n",
    "\n",
    "# Impute missing values for boolean columns with a new category\n",
    "boolean_columns = ['permit']\n",
    "for column in boolean_columns:\n",
    "    training_set_values[column].fillna('Unknown', inplace=True)\n",
    "\n"
   ]
  },
  {
   "cell_type": "markdown",
   "metadata": {},
   "source": [
    "#### Check for missing values in the dataset"
   ]
  },
  {
   "cell_type": "code",
   "execution_count": 11,
   "metadata": {},
   "outputs": [
    {
     "name": "stdout",
     "output_type": "stream",
     "text": [
      "id                           0\n",
      "amount_tsh                   0\n",
      "date_recorded                0\n",
      "funder                       0\n",
      "gps_height                   0\n",
      "installer                    0\n",
      "longitude                    0\n",
      "latitude                     0\n",
      "wpt_name                     0\n",
      "num_private                  0\n",
      "basin                        0\n",
      "subvillage                 371\n",
      "region                       0\n",
      "region_code                  0\n",
      "district_code                0\n",
      "lga                          0\n",
      "ward                         0\n",
      "population                   0\n",
      "public_meeting            3334\n",
      "recorded_by                  0\n",
      "scheme_management            0\n",
      "scheme_name              28166\n",
      "permit                       0\n",
      "construction_year            0\n",
      "extraction_type              0\n",
      "extraction_type_group        0\n",
      "extraction_type_class        0\n",
      "management                   0\n",
      "management_group             0\n",
      "payment                      0\n",
      "payment_type                 0\n",
      "water_quality                0\n",
      "quality_group                0\n",
      "quantity                     0\n",
      "quantity_group               0\n",
      "source                       0\n",
      "source_type                  0\n",
      "source_class                 0\n",
      "waterpoint_type              0\n",
      "waterpoint_type_group        0\n",
      "dtype: int64\n"
     ]
    }
   ],
   "source": [
    "# Check for missing values in the updated dataset\n",
    "missing_values_count = training_set_values.isnull().sum()\n",
    "print(missing_values_count)\n"
   ]
  },
  {
   "cell_type": "code",
   "execution_count": 12,
   "metadata": {},
   "outputs": [],
   "source": [
    "### Dropping columns which are unnecessary.\n",
    "\n",
    "columns_to_drop = ['wpt_name', 'num_private', 'subvillage', 'district_code', 'lga', 'ward', \n",
    "                   'public_meeting', 'recorded_by', 'scheme_name', 'extraction_type_group', \n",
    "                   'extraction_type_class', 'management_group', 'payment_type', 'quality_group', \n",
    "                   'quantity_group', 'source_type', 'source_class', 'waterpoint_type']\n",
    "\n",
    "# Drop the specified columns\n",
    "training_set_values.drop(columns=columns_to_drop, inplace=True)\n"
   ]
  },
  {
   "cell_type": "code",
   "execution_count": 13,
   "metadata": {},
   "outputs": [
    {
     "name": "stdout",
     "output_type": "stream",
     "text": [
      "Index(['id', 'amount_tsh', 'date_recorded', 'funder', 'gps_height',\n",
      "       'installer', 'longitude', 'latitude', 'basin', 'region', 'region_code',\n",
      "       'population', 'scheme_management', 'permit', 'construction_year',\n",
      "       'extraction_type', 'management', 'payment', 'water_quality', 'quantity',\n",
      "       'source', 'waterpoint_type_group'],\n",
      "      dtype='object')\n"
     ]
    }
   ],
   "source": [
    "remaining_columns = training_set_values.columns\n",
    "print(remaining_columns)\n"
   ]
  },
  {
   "cell_type": "markdown",
   "metadata": {},
   "source": [
    "## Feature Engineering."
   ]
  },
  {
   "cell_type": "code",
   "execution_count": 14,
   "metadata": {},
   "outputs": [],
   "source": [
    "# Calculate the age of the waterpoint\n",
    "current_year = pd.Timestamp.now().year\n",
    "training_set_values['age'] = current_year - training_set_values['construction_year']\n",
    "\n",
    "# Drop the 'construction_year' column\n",
    "training_set_values.drop(columns=['construction_year'], inplace=True)\n",
    "\n"
   ]
  },
  {
   "cell_type": "code",
   "execution_count": 15,
   "metadata": {},
   "outputs": [
    {
     "data": {
      "image/png": "[encoded data removed]",
      "text/plain": [
       "<Figure size 864x576 with 2 Axes>"
      ]
     },
     "metadata": {
      "needs_background": "light"
     },
     "output_type": "display_data"
    }
   ],
   "source": [
    "import seaborn as sns\n",
    "import matplotlib.pyplot as plt\n",
    "\n",
    "# Create a heatmap of the dataset\n",
    "plt.figure(figsize=(12, 8))\n",
    "sns.heatmap(training_set_values.corr(), annot=True, cmap='coolwarm', fmt=\".2f\")\n",
    "plt.title('Correlation Heatmap of Dataset')\n",
    "plt.show()\n"
   ]
  },
  {
   "cell_type": "code",
   "execution_count": 16,
   "metadata": {},
   "outputs": [
    {
     "data": {
      "image/png": "[encoded data removed]",
      "text/plain": [
       "<Figure size 864x576 with 1 Axes>"
      ]
     },
     "metadata": {
      "needs_background": "light"
     },
     "output_type": "display_data"
    }
   ],
   "source": [
    "import seaborn as sns\n",
    "import matplotlib.pyplot as plt\n",
    "\n",
    "# Extract numerical features\n",
    "numerical_features = training_set_values.select_dtypes(include=['int64', 'float64'])\n",
    "\n",
    "# Plot box plots for numerical features\n",
    "plt.figure(figsize=(12, 8))\n",
    "sns.boxplot(data=numerical_features, orient='h')\n",
    "plt.title('Box Plot of Numerical Features (with outliers)')\n",
    "plt.xlabel('Feature values')\n",
    "plt.show()\n"
   ]
  },
  {
   "cell_type": "markdown",
   "metadata": {},
   "source": [
    "##### Categorical Columns (e.g., funder, installer, basin, etc.):\n",
    "For categorical columns, we'll encode them using one-hot encoding to convert them into a format suitable for machine learning algorithms.\n",
    "In the provided code we'll use OneHotEncoder from scikit-learn to encode categorical columns into binary vectors.This will create binary columns for each category within each categorical feature."
   ]
  },
  {
   "cell_type": "code",
   "execution_count": 17,
   "metadata": {},
   "outputs": [
    {
     "name": "stdout",
     "output_type": "stream",
     "text": [
      "       funder_0  funder_A/co Germany  funder_Aar  funder_Abas Ka  \\\n",
      "0           0.0                  0.0         0.0             0.0   \n",
      "1           0.0                  0.0         0.0             0.0   \n",
      "2           0.0                  0.0         0.0             0.0   \n",
      "3           0.0                  0.0         0.0             0.0   \n",
      "4           0.0                  0.0         0.0             0.0   \n",
      "...         ...                  ...         ...             ...   \n",
      "59395       0.0                  0.0         0.0             0.0   \n",
      "59396       0.0                  0.0         0.0             0.0   \n",
      "59397       0.0                  0.0         0.0             0.0   \n",
      "59398       0.0                  0.0         0.0             0.0   \n",
      "59399       0.0                  0.0         0.0             0.0   \n",
      "\n",
      "       funder_Abasia  funder_Abc-ihushi Development Cent  funder_Abd  \\\n",
      "0                0.0                                 0.0         0.0   \n",
      "1                0.0                                 0.0         0.0   \n",
      "2                0.0                                 0.0         0.0   \n",
      "3                0.0                                 0.0         0.0   \n",
      "4                0.0                                 0.0         0.0   \n",
      "...              ...                                 ...         ...   \n",
      "59395            0.0                                 0.0         0.0   \n",
      "59396            0.0                                 0.0         0.0   \n",
      "59397            0.0                                 0.0         0.0   \n",
      "59398            0.0                                 0.0         0.0   \n",
      "59399            0.0                                 0.0         0.0   \n",
      "\n",
      "       funder_Abdala  funder_Abddwe  funder_Abdul  ...  permit_False  \\\n",
      "0                0.0            0.0           0.0  ...           1.0   \n",
      "1                0.0            0.0           0.0  ...           0.0   \n",
      "2                0.0            0.0           0.0  ...           0.0   \n",
      "3                0.0            0.0           0.0  ...           0.0   \n",
      "4                0.0            0.0           0.0  ...           0.0   \n",
      "...              ...            ...           ...  ...           ...   \n",
      "59395            0.0            0.0           0.0  ...           0.0   \n",
      "59396            0.0            0.0           0.0  ...           0.0   \n",
      "59397            0.0            0.0           0.0  ...           1.0   \n",
      "59398            0.0            0.0           0.0  ...           0.0   \n",
      "59399            0.0            0.0           0.0  ...           0.0   \n",
      "\n",
      "       permit_True        id  amount_tsh  gps_height  longitude  latitude  \\\n",
      "0              0.0  1.512933    1.895665    1.041252   0.131052 -1.408791   \n",
      "1              1.0 -1.320990   -0.105970    1.054237   0.094610  1.207934   \n",
      "2              1.0 -0.130757   -0.097630    0.025541   0.515158  0.639751   \n",
      "3              1.0  1.427676   -0.105970   -0.584751   0.671308 -1.849720   \n",
      "4              1.0 -0.810478   -0.105970   -0.964200  -0.448669  1.317271   \n",
      "...            ...       ...         ...         ...        ...       ...   \n",
      "59395          1.0  1.101195   -0.102634    0.781553   0.470870  0.832379   \n",
      "59396          1.0 -0.459244    1.461977    0.784439   0.178544 -1.142092   \n",
      "59397          0.0 -0.002710   -0.105970   -0.964200  -0.009188 -1.033404   \n",
      "59398          1.0 -0.271904   -0.105970   -0.964200   0.271629 -0.228290   \n",
      "59399          1.0 -0.501895   -0.105970   -0.688631   0.613125 -0.353508   \n",
      "\n",
      "       region_code  population       age  \n",
      "0        -0.244325   -0.150399 -0.733857  \n",
      "1         0.267409    0.212290 -0.745416  \n",
      "2         0.324269    0.148660 -0.744365  \n",
      "3         4.247564   -0.258570 -0.720196  \n",
      "4         0.153691   -0.381587  1.366788  \n",
      "...            ...         ...       ...  \n",
      "59395    -0.699200   -0.116463 -0.733857  \n",
      "59396    -0.244325   -0.262812 -0.730704  \n",
      "59397    -0.187465   -0.381587  1.366788  \n",
      "59398    -0.812918   -0.381587  1.366788  \n",
      "59399    -0.585481   -0.063439 -0.737010  \n",
      "\n",
      "[59400 rows x 4064 columns]\n"
     ]
    }
   ],
   "source": [
    "import pandas as pd\n",
    "from sklearn.preprocessing import StandardScaler\n",
    "\n",
    "# Encoding categorical columns using OneHotEncoder (as you've done before)\n",
    "encoder = OneHotEncoder(sparse=True, handle_unknown='ignore')\n",
    "encoded_categorical = encoder.fit_transform(training_set_values[categorical_columns])\n",
    "\n",
    "# Get the encoded column names\n",
    "encoded_column_names = []\n",
    "for i, column in enumerate(encoder.categories_):\n",
    "    for category in column:\n",
    "        encoded_column_names.append(f\"{categorical_columns[i]}_{category}\")\n",
    "\n",
    "# Convert the encoded categorical data back to a DataFrame with custom column names\n",
    "encoded_categorical_df = pd.DataFrame.sparse.from_spmatrix(encoded_categorical, columns=encoded_column_names)\n",
    "\n",
    "# Extract numerical features\n",
    "numerical_features = training_set_values.select_dtypes(include=['int64', 'float64'])\n",
    "\n",
    "# Initialize StandardScaler\n",
    "scaler = StandardScaler()\n",
    "\n",
    "# Fit and transform the numerical features\n",
    "scaled_numerical_features = scaler.fit_transform(numerical_features)\n",
    "\n",
    "# Convert the scaled features back to a DataFrame\n",
    "scaled_numerical_features_df = pd.DataFrame(scaled_numerical_features, columns=numerical_features.columns)\n",
    "\n",
    "# Concatenate the scaled numerical features DataFrame with the encoded categorical features\n",
    "training_set_values_scaled = pd.concat([encoded_categorical_df, scaled_numerical_features_df], axis=1)\n",
    "\n",
    "# Display the concatenated DataFrame\n",
    "print(training_set_values_scaled)\n"
   ]
  },
  {
   "cell_type": "code",
   "execution_count": 18,
   "metadata": {},
   "outputs": [
    {
     "name": "stdout",
     "output_type": "stream",
     "text": [
      "       funder_0  funder_A/co Germany  funder_Aar  funder_Abas Ka  \\\n",
      "0           0.0                  0.0         0.0             0.0   \n",
      "1           0.0                  0.0         0.0             0.0   \n",
      "2           0.0                  0.0         0.0             0.0   \n",
      "3           0.0                  0.0         0.0             0.0   \n",
      "4           0.0                  0.0         0.0             0.0   \n",
      "...         ...                  ...         ...             ...   \n",
      "59395       0.0                  0.0         0.0             0.0   \n",
      "59396       0.0                  0.0         0.0             0.0   \n",
      "59397       0.0                  0.0         0.0             0.0   \n",
      "59398       0.0                  0.0         0.0             0.0   \n",
      "59399       0.0                  0.0         0.0             0.0   \n",
      "\n",
      "       funder_Abasia  funder_Abc-ihushi Development Cent  funder_Abd  \\\n",
      "0                0.0                                 0.0         0.0   \n",
      "1                0.0                                 0.0         0.0   \n",
      "2                0.0                                 0.0         0.0   \n",
      "3                0.0                                 0.0         0.0   \n",
      "4                0.0                                 0.0         0.0   \n",
      "...              ...                                 ...         ...   \n",
      "59395            0.0                                 0.0         0.0   \n",
      "59396            0.0                                 0.0         0.0   \n",
      "59397            0.0                                 0.0         0.0   \n",
      "59398            0.0                                 0.0         0.0   \n",
      "59399            0.0                                 0.0         0.0   \n",
      "\n",
      "       funder_Abdala  funder_Abddwe  funder_Abdul  ...  permit_True        id  \\\n",
      "0                0.0            0.0           0.0  ...          0.0  1.512933   \n",
      "1                0.0            0.0           0.0  ...          1.0 -1.320990   \n",
      "2                0.0            0.0           0.0  ...          1.0 -0.130757   \n",
      "3                0.0            0.0           0.0  ...          1.0  1.427676   \n",
      "4                0.0            0.0           0.0  ...          1.0 -0.810478   \n",
      "...              ...            ...           ...  ...          ...       ...   \n",
      "59395            0.0            0.0           0.0  ...          1.0  1.101195   \n",
      "59396            0.0            0.0           0.0  ...          1.0 -0.459244   \n",
      "59397            0.0            0.0           0.0  ...          0.0 -0.002710   \n",
      "59398            0.0            0.0           0.0  ...          1.0 -0.271904   \n",
      "59399            0.0            0.0           0.0  ...          1.0 -0.501895   \n",
      "\n",
      "       amount_tsh  gps_height  longitude  latitude  region_code  population  \\\n",
      "0        1.895665    1.041252   0.131052 -1.408791    -0.244325   -0.150399   \n",
      "1       -0.105970    1.054237   0.094610  1.207934     0.267409    0.212290   \n",
      "2       -0.097630    0.025541   0.515158  0.639751     0.324269    0.148660   \n",
      "3       -0.105970   -0.584751   0.671308 -1.849720     4.247564   -0.258570   \n",
      "4       -0.105970   -0.964200  -0.448669  1.317271     0.153691   -0.381587   \n",
      "...           ...         ...        ...       ...          ...         ...   \n",
      "59395   -0.102634    0.781553   0.470870  0.832379    -0.699200   -0.116463   \n",
      "59396    1.461977    0.784439   0.178544 -1.142092    -0.244325   -0.262812   \n",
      "59397   -0.105970   -0.964200  -0.009188 -1.033404    -0.187465   -0.381587   \n",
      "59398   -0.105970   -0.964200   0.271629 -0.228290    -0.812918   -0.381587   \n",
      "59399   -0.105970   -0.688631   0.613125 -0.353508    -0.585481   -0.063439   \n",
      "\n",
      "            age  permit  \n",
      "0     -0.733857       0  \n",
      "1     -0.745416       1  \n",
      "2     -0.744365       1  \n",
      "3     -0.720196       1  \n",
      "4      1.366788       1  \n",
      "...         ...     ...  \n",
      "59395 -0.733857       1  \n",
      "59396 -0.730704       1  \n",
      "59397  1.366788       0  \n",
      "59398  1.366788       1  \n",
      "59399 -0.737010       1  \n",
      "\n",
      "[59400 rows x 4065 columns]\n"
     ]
    }
   ],
   "source": [
    "# Replace 'True' and 'False' with 1 and 0, respectively, for boolean columns\n",
    "training_set_values['permit'] = training_set_values['permit'].map({True: 1, False: 0})\n",
    "\n",
    "# Concatenate the 'permit' column with the other features\n",
    "training_set_values_scaled['permit'] = training_set_values['permit']\n",
    "\n",
    "print(training_set_values_scaled)\n"
   ]
  },
  {
   "cell_type": "code",
   "execution_count": 19,
   "metadata": {},
   "outputs": [
    {
     "name": "stdout",
     "output_type": "stream",
     "text": [
      "<class 'pandas.core.frame.DataFrame'>\n",
      "RangeIndex: 59400 entries, 0 to 59399\n",
      "Data columns (total 2 columns):\n",
      " #   Column        Non-Null Count  Dtype \n",
      "---  ------        --------------  ----- \n",
      " 0   id            59400 non-null  int64 \n",
      " 1   status_group  59400 non-null  object\n",
      "dtypes: int64(1), object(1)\n",
      "memory usage: 928.2+ KB\n"
     ]
    }
   ],
   "source": [
    "training_set_labels.info()"
   ]
  },
  {
   "cell_type": "code",
   "execution_count": 20,
   "metadata": {},
   "outputs": [
    {
     "data": {
      "text/html": [
       "<div>\n",
       "<style scoped>\n",
       "    .dataframe tbody tr th:only-of-type {\n",
       "        vertical-align: middle;\n",
       "    }\n",
       "\n",
       "    .dataframe tbody tr th {\n",
       "        vertical-align: top;\n",
       "    }\n",
       "\n",
       "    .dataframe thead th {\n",
       "        text-align: right;\n",
       "    }\n",
       "</style>\n",
       "<table border=\"1\" class=\"dataframe\">\n",
       "  <thead>\n",
       "    <tr style=\"text-align: right;\">\n",
       "      <th></th>\n",
       "      <th>status_group</th>\n",
       "    </tr>\n",
       "  </thead>\n",
       "  <tbody>\n",
       "    <tr>\n",
       "      <th>0</th>\n",
       "      <td>functional</td>\n",
       "    </tr>\n",
       "    <tr>\n",
       "      <th>1</th>\n",
       "      <td>functional</td>\n",
       "    </tr>\n",
       "    <tr>\n",
       "      <th>2</th>\n",
       "      <td>functional</td>\n",
       "    </tr>\n",
       "    <tr>\n",
       "      <th>3</th>\n",
       "      <td>non functional</td>\n",
       "    </tr>\n",
       "    <tr>\n",
       "      <th>4</th>\n",
       "      <td>functional</td>\n",
       "    </tr>\n",
       "  </tbody>\n",
       "</table>\n",
       "</div>"
      ],
      "text/plain": [
       "     status_group\n",
       "0      functional\n",
       "1      functional\n",
       "2      functional\n",
       "3  non functional\n",
       "4      functional"
      ]
     },
     "execution_count": 20,
     "metadata": {},
     "output_type": "execute_result"
    }
   ],
   "source": [
    "\n",
    "training_set_labels.drop(columns=['id'], inplace=True)\n",
    "\n",
    "training_set_labels.head()"
   ]
  },
  {
   "cell_type": "code",
   "execution_count": 21,
   "metadata": {},
   "outputs": [
    {
     "name": "stdout",
     "output_type": "stream",
     "text": [
      "Shape of X_train: (47520, 4065)\n",
      "Shape of X_val: (11880, 4065)\n",
      "Shape of y_train: (47520, 1)\n",
      "Shape of y_val: (11880, 1)\n"
     ]
    }
   ],
   "source": [
    "from sklearn.model_selection import train_test_split\n",
    "\n",
    "# Assuming 'X' contains your features and 'y' contains your target variable\n",
    "X = training_set_values_scaled  # This should be your feature matrix after scaling\n",
    "y = training_set_labels  # This should be your target variable\n",
    "\n",
    "# Split the data into training and validation sets with an 80/20 ratio\n",
    "X_train, X_val, y_train, y_val = train_test_split(X, y, test_size=0.2, random_state=42)\n",
    "\n",
    "# Now, X_train and y_train contain the training features and target labels, respectively,\n",
    "# while X_val and y_val contain the validation features and target labels, respectively.\n",
    "\n",
    "print(\"Shape of X_train:\", X_train.shape)\n",
    "print(\"Shape of X_val:\", X_val.shape)\n",
    "print(\"Shape of y_train:\", y_train.shape)\n",
    "print(\"Shape of y_val:\", y_val.shape)\n"
   ]
  },
  {
   "cell_type": "code",
   "execution_count": 22,
   "metadata": {},
   "outputs": [
    {
     "name": "stderr",
     "output_type": "stream",
     "text": [
      "c:\\Users\\RHYZEN\\anaconda3\\envs\\learn-env\\lib\\site-packages\\sklearn\\utils\\validation.py:508: UserWarning: pandas.DataFrame with sparse columns found.It will be converted to a dense numpy array.\n",
      "  warnings.warn(\n",
      "c:\\Users\\RHYZEN\\anaconda3\\envs\\learn-env\\lib\\site-packages\\sklearn\\utils\\validation.py:72: DataConversionWarning: A column-vector y was passed when a 1d array was expected. Please change the shape of y to (n_samples, ), for example using ravel().\n",
      "  return f(**kwargs)\n",
      "c:\\Users\\RHYZEN\\anaconda3\\envs\\learn-env\\lib\\site-packages\\sklearn\\linear_model\\_logistic.py:762: ConvergenceWarning: lbfgs failed to converge (status=1):\n",
      "STOP: TOTAL NO. of ITERATIONS REACHED LIMIT.\n",
      "\n",
      "Increase the number of iterations (max_iter) or scale the data as shown in:\n",
      "    https://scikit-learn.org/stable/modules/preprocessing.html\n",
      "Please also refer to the documentation for alternative solver options:\n",
      "    https://scikit-learn.org/stable/modules/linear_model.html#logistic-regression\n",
      "  n_iter_i = _check_optimize_result(\n",
      "c:\\Users\\RHYZEN\\anaconda3\\envs\\learn-env\\lib\\site-packages\\sklearn\\utils\\validation.py:508: UserWarning: pandas.DataFrame with sparse columns found.It will be converted to a dense numpy array.\n",
      "  warnings.warn(\n"
     ]
    },
    {
     "name": "stdout",
     "output_type": "stream",
     "text": [
      "Accuracy: 0.6487373737373737\n",
      "Classification Report:\n",
      "                         precision    recall  f1-score   support\n",
      "\n",
      "             functional       0.66      0.82      0.73      6457\n",
      "functional needs repair       0.49      0.05      0.10       851\n",
      "         non functional       0.63      0.52      0.57      4572\n",
      "\n",
      "               accuracy                           0.65     11880\n",
      "              macro avg       0.60      0.46      0.46     11880\n",
      "           weighted avg       0.64      0.65      0.62     11880\n",
      "\n",
      "Confusion Matrix:\n",
      "[[5301   34 1122]\n",
      " [ 559   45  247]\n",
      " [2199   12 2361]]\n"
     ]
    }
   ],
   "source": [
    "from sklearn.linear_model import LogisticRegression\n",
    "from sklearn.metrics import accuracy_score, classification_report, confusion_matrix\n",
    "\n",
    "# Initialize logistic regression model\n",
    "logistic_regression_model = LogisticRegression(random_state=42)\n",
    "\n",
    "# Train the model on the training data\n",
    "logistic_regression_model.fit(X_train, y_train)\n",
    "\n",
    "# Predict the labels for validation set\n",
    "y_pred = logistic_regression_model.predict(X_val)\n",
    "\n",
    "# Calculate accuracy\n",
    "accuracy = accuracy_score(y_val, y_pred)\n",
    "print(\"Accuracy:\", accuracy)\n",
    "\n",
    "# Calculate and print classification report\n",
    "print(\"Classification Report:\")\n",
    "print(classification_report(y_val, y_pred))\n",
    "\n",
    "# Calculate and print confusion matrix\n",
    "print(\"Confusion Matrix:\")\n",
    "print(confusion_matrix(y_val, y_pred))\n"
   ]
  },
  {
   "cell_type": "code",
   "execution_count": 23,
   "metadata": {},
   "outputs": [
    {
     "data": {
      "image/png": "[encoded data removed]",
      "text/plain": [
       "<Figure size 720x576 with 1 Axes>"
      ]
     },
     "metadata": {},
     "output_type": "display_data"
    }
   ],
   "source": [
    "import seaborn as sns\n",
    "import matplotlib.pyplot as plt\n",
    "from sklearn.metrics import confusion_matrix\n",
    "\n",
    "# Calculate the confusion matrix\n",
    "conf_matrix = confusion_matrix(y_val, y_pred)\n",
    "\n",
    "# Get class labels\n",
    "class_labels = sorted(y_val.iloc[:, 0].unique())\n",
    "\n",
    "# Set seaborn style\n",
    "sns.set(font_scale=1.2)\n",
    "\n",
    "# Plot confusion matrix as heatmap\n",
    "plt.figure(figsize=(10, 8))\n",
    "sns.heatmap(conf_matrix, annot=True, cmap=\"Blues\", fmt=\"d\", cbar=False,\n",
    "            xticklabels=class_labels, yticklabels=class_labels)\n",
    "plt.title('Confusion Matrix')\n",
    "plt.xlabel('Predicted Label')\n",
    "plt.ylabel('True Label')\n",
    "plt.show()\n"
   ]
  },
  {
   "cell_type": "code",
   "execution_count": 24,
   "metadata": {},
   "outputs": [
    {
     "name": "stderr",
     "output_type": "stream",
     "text": [
      "c:\\Users\\RHYZEN\\anaconda3\\envs\\learn-env\\lib\\site-packages\\sklearn\\utils\\validation.py:508: UserWarning: pandas.DataFrame with sparse columns found.It will be converted to a dense numpy array.\n",
      "  warnings.warn(\n",
      "c:\\Users\\RHYZEN\\anaconda3\\envs\\learn-env\\lib\\site-packages\\sklearn\\utils\\validation.py:508: UserWarning: pandas.DataFrame with sparse columns found.It will be converted to a dense numpy array.\n",
      "  warnings.warn(\n",
      "c:\\Users\\RHYZEN\\anaconda3\\envs\\learn-env\\lib\\site-packages\\sklearn\\utils\\validation.py:72: DataConversionWarning: A column-vector y was passed when a 1d array was expected. Please change the shape of y to (n_samples, ), for example using ravel().\n",
      "  return f(**kwargs)\n",
      "c:\\Users\\RHYZEN\\anaconda3\\envs\\learn-env\\lib\\site-packages\\sklearn\\linear_model\\_logistic.py:762: ConvergenceWarning: lbfgs failed to converge (status=1):\n",
      "STOP: TOTAL NO. of ITERATIONS REACHED LIMIT.\n",
      "\n",
      "Increase the number of iterations (max_iter) or scale the data as shown in:\n",
      "    https://scikit-learn.org/stable/modules/preprocessing.html\n",
      "Please also refer to the documentation for alternative solver options:\n",
      "    https://scikit-learn.org/stable/modules/linear_model.html#logistic-regression\n",
      "  n_iter_i = _check_optimize_result(\n"
     ]
    },
    {
     "data": {
      "text/plain": [
       "LogisticRegression(random_state=42)"
      ]
     },
     "execution_count": 24,
     "metadata": {},
     "output_type": "execute_result"
    }
   ],
   "source": [
    "from imblearn.over_sampling import SMOTE\n",
    "\n",
    "# Initialize SMOTE\n",
    "smote = SMOTE(random_state=42)\n",
    "\n",
    "# Apply SMOTE to the training data only (to avoid data leakage)\n",
    "X_train_resampled, y_train_resampled = smote.fit_resample(X_train, y_train)\n",
    "\n",
    "# Train your model on the resampled data\n",
    "logistic_regression_model.fit(X_train_resampled, y_train_resampled)\n"
   ]
  },
  {
   "cell_type": "code",
   "execution_count": 25,
   "metadata": {},
   "outputs": [
    {
     "name": "stderr",
     "output_type": "stream",
     "text": [
      "c:\\Users\\RHYZEN\\anaconda3\\envs\\learn-env\\lib\\site-packages\\sklearn\\utils\\validation.py:508: UserWarning: pandas.DataFrame with sparse columns found.It will be converted to a dense numpy array.\n",
      "  warnings.warn(\n",
      "c:\\Users\\RHYZEN\\anaconda3\\envs\\learn-env\\lib\\site-packages\\sklearn\\utils\\validation.py:508: UserWarning: pandas.DataFrame with sparse columns found.It will be converted to a dense numpy array.\n",
      "  warnings.warn(\n"
     ]
    },
    {
     "name": "stdout",
     "output_type": "stream",
     "text": [
      "Train Accuracy: 0.531712962962963\n",
      "Validation Accuracy: 0.5119528619528619\n"
     ]
    }
   ],
   "source": [
    "import seaborn as sns\n",
    "import matplotlib.pyplot as plt\n",
    "from sklearn.metrics import accuracy_score, confusion_matrix\n",
    "\n",
    "# Predict on the train and validation sets\n",
    "y_train_pred = logistic_regression_model.predict(X_train)\n",
    "y_val_pred = logistic_regression_model.predict(X_val)\n",
    "\n",
    "# Calculate accuracy on train and validation sets\n",
    "train_accuracy = accuracy_score(y_train, y_train_pred)\n",
    "val_accuracy = accuracy_score(y_val, y_val_pred)\n",
    "\n",
    "print(\"Train Accuracy:\", train_accuracy)\n",
    "print(\"Validation Accuracy:\", val_accuracy)"
   ]
  },
  {
   "cell_type": "code",
   "execution_count": 26,
   "metadata": {},
   "outputs": [
    {
     "data": {
      "image/png": "[encoded data removed]",
      "text/plain": [
       "<Figure size 720x576 with 1 Axes>"
      ]
     },
     "metadata": {},
     "output_type": "display_data"
    }
   ],
   "source": [
    "# Get class labels\n",
    "class_labels = sorted(y_val.iloc[:, 0].unique())\n",
    "\n",
    "# Plot confusion matrix for train set\n",
    "plt.figure(figsize=(10, 8))\n",
    "train_conf_matrix = confusion_matrix(y_train, y_train_pred)\n",
    "sns.heatmap(train_conf_matrix, annot=True, cmap=\"Blues\", fmt=\"d\", cbar=False,\n",
    "            xticklabels=class_labels, yticklabels=class_labels)\n",
    "plt.title('Train Confusion Matrix')\n",
    "plt.xlabel('Predicted Label')\n",
    "plt.ylabel('True Label')\n",
    "plt.show()\n"
   ]
  },
  {
   "cell_type": "code",
   "execution_count": null,
   "metadata": {},
   "outputs": [],
   "source": []
  },
  {
   "cell_type": "markdown",
   "metadata": {},
   "source": []
  }
 ],
 "metadata": {
  "kernelspec": {
   "display_name": "Python 3",
   "language": "python",
   "name": "python3"
  },
  "language_info": {
   "codemirror_mode": {
    "name": "ipython",
    "version": 3
   },
   "file_extension": ".py",
   "mimetype": "text/x-python",
   "name": "python",
   "nbconvert_exporter": "python",
   "pygments_lexer": "ipython3",
   "version": "3.8.5"
  }
 },
 "nbformat": 4,
 "nbformat_minor": 2
}
