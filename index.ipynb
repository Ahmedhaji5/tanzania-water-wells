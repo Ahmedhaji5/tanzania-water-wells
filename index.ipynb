{
 "cells": [
  {
   "cell_type": "code",
   "execution_count": 2,
   "metadata": {},
   "outputs": [],
   "source": [
    "import pandas as pd\n",
    "\n",
    "# Importing the csv files\n",
    "\n",
    "training = pd.read_csv(\"training.csv\")\n",
    "testing = pd.read_csv(\"training.csv\")\n",
    "training = pd.read_csv(\"training.csv\")\n",
    "\n",
    "# Data contains my dataset\n",
    "\n"
   ]
  },
  {
   "cell_type": "code",
   "execution_count": 3,
   "metadata": {},
   "outputs": [
    {
     "name": "stdout",
     "output_type": "stream",
     "text": [
      "<class 'pandas.core.frame.DataFrame'>\n",
      "RangeIndex: 59400 entries, 0 to 59399\n",
      "Data columns (total 2 columns):\n",
      " #   Column        Non-Null Count  Dtype \n",
      "---  ------        --------------  ----- \n",
      " 0   id            59400 non-null  int64 \n",
      " 1   status_group  59400 non-null  object\n",
      "dtypes: int64(1), object(1)\n",
      "memory usage: 928.3+ KB\n"
     ]
    }
   ],
   "source": [
    "training.info()"
   ]
  },
  {
   "cell_type": "code",
   "execution_count": 9,
   "metadata": {},
   "outputs": [
    {
     "name": "stdout",
     "output_type": "stream",
     "text": [
      "<class 'pandas.core.frame.DataFrame'>\n",
      "RangeIndex: 14850 entries, 0 to 14849\n",
      "Data columns (total 40 columns):\n",
      " #   Column                 Non-Null Count  Dtype  \n",
      "---  ------                 --------------  -----  \n",
      " 0   id                     14850 non-null  int64  \n",
      " 1   amount_tsh             14850 non-null  float64\n",
      " 2   date_recorded          14850 non-null  object \n",
      " 3   funder                 13980 non-null  object \n",
      " 4   gps_height             14850 non-null  int64  \n",
      " 5   installer              13973 non-null  object \n",
      " 6   longitude              14850 non-null  float64\n",
      " 7   latitude               14850 non-null  float64\n",
      " 8   wpt_name               14850 non-null  object \n",
      " 9   num_private            14850 non-null  int64  \n",
      " 10  basin                  14850 non-null  object \n",
      " 11  subvillage             14751 non-null  object \n",
      " 12  region                 14850 non-null  object \n",
      " 13  region_code            14850 non-null  int64  \n",
      " 14  district_code          14850 non-null  int64  \n",
      " 15  lga                    14850 non-null  object \n",
      " 16  ward                   14850 non-null  object \n",
      " 17  population             14850 non-null  int64  \n",
      " 18  public_meeting         14029 non-null  object \n",
      " 19  recorded_by            14850 non-null  object \n",
      " 20  scheme_management      13881 non-null  object \n",
      " 21  scheme_name            7608 non-null   object \n",
      " 22  permit                 14113 non-null  object \n",
      " 23  construction_year      14850 non-null  int64  \n",
      " 24  extraction_type        14850 non-null  object \n",
      " 25  extraction_type_group  14850 non-null  object \n",
      " 26  extraction_type_class  14850 non-null  object \n",
      " 27  management             14850 non-null  object \n",
      " 28  management_group       14850 non-null  object \n",
      " 29  payment                14850 non-null  object \n",
      " 30  payment_type           14850 non-null  object \n",
      " 31  water_quality          14850 non-null  object \n",
      " 32  quality_group          14850 non-null  object \n",
      " 33  quantity               14850 non-null  object \n",
      " 34  quantity_group         14850 non-null  object \n",
      " 35  source                 14850 non-null  object \n",
      " 36  source_type            14850 non-null  object \n",
      " 37  source_class           14850 non-null  object \n",
      " 38  waterpoint_type        14850 non-null  object \n",
      " 39  waterpoint_type_group  14850 non-null  object \n",
      "dtypes: float64(3), int64(7), object(30)\n",
      "memory usage: 4.5+ MB\n"
     ]
    }
   ],
   "source": [
    "import pandas as pd\n",
    "\n",
    "# Importing the csv file\n",
    "csv_file_path = 'data2.csv'\n",
    "\n",
    "# Use pandas to read the CSV file into a DataFrame\n",
    "data2 = pd.read_csv(csv_file_path)\n",
    "\n",
    "# Data contains my dataset\n",
    "data2.info()\n",
    "\n"
   ]
  },
  {
   "cell_type": "code",
   "execution_count": 14,
   "metadata": {},
   "outputs": [
    {
     "ename": "NameError",
     "evalue": "name 'testing' is not defined",
     "output_type": "error",
     "traceback": [
      "\u001b[1;31m---------------------------------------------------------------------------\u001b[0m",
      "\u001b[1;31mNameError\u001b[0m                                 Traceback (most recent call last)",
      "Cell \u001b[1;32mIn[14], line 7\u001b[0m\n\u001b[0;32m      4\u001b[0m labels \u001b[38;5;241m=\u001b[39m pd\u001b[38;5;241m.\u001b[39mread_csv(csv_file_path)\n\u001b[0;32m      6\u001b[0m \u001b[38;5;66;03m# Data contains my dataset\u001b[39;00m\n\u001b[1;32m----> 7\u001b[0m testing\u001b[38;5;241m.\u001b[39mhead()\n",
      "\u001b[1;31mNameError\u001b[0m: name 'testing' is not defined"
     ]
    }
   ],
   "source": [
    "csv_file_path = 'testing.csv'\n",
    "\n",
    "# Use pandas to read the CSV file into a DataFrame\n",
    "labels = pd.read_csv(csv_file_path)\n",
    "\n",
    "# Data contains my dataset\n",
    "testing.head()\n"
   ]
  },
  {
   "cell_type": "code",
   "execution_count": null,
   "metadata": {},
   "outputs": [],
   "source": [
    "csv_file_path = 'labels.csv'\n",
    "\n",
    "# Use pandas to read the CSV file into a DataFrame\n",
    "labels = pd.read_csv(csv_file_path)\n",
    "\n",
    "# Data contains my dataset\n",
    "labels.head()\n"
   ]
  }
 ],
 "metadata": {
  "kernelspec": {
   "display_name": "waswa",
   "language": "python",
   "name": "python3"
  },
  "language_info": {
   "codemirror_mode": {
    "name": "ipython",
    "version": 3
   },
   "file_extension": ".py",
   "mimetype": "text/x-python",
   "name": "python",
   "nbconvert_exporter": "python",
   "pygments_lexer": "ipython3",
   "version": "3.11.7"
  }
 },
 "nbformat": 4,
 "nbformat_minor": 2
}
